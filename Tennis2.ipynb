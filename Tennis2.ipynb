{
 "cells": [
  {
   "cell_type": "markdown",
   "metadata": {},
   "source": [
    "# Collaboration and Competition\n",
    "\n",
    "---\n",
    "\n",
    "In this notebook, you will learn how to use the Unity ML-Agents environment for the third project of the [Deep Reinforcement Learning Nanodegree](https://www.udacity.com/course/deep-reinforcement-learning-nanodegree--nd893) program.\n",
    "\n",
    "### 1. Start the Environment\n",
    "\n",
    "We begin by importing the necessary packages.  If the code cell below returns an error, please revisit the project instructions to double-check that you have installed [Unity ML-Agents](https://github.com/Unity-Technologies/ml-agents/blob/master/docs/Installation.md) and [NumPy](http://www.numpy.org/)."
   ]
  },
  {
   "cell_type": "code",
   "execution_count": 1,
   "metadata": {},
   "outputs": [],
   "source": [
    "from unityagents import UnityEnvironment\n",
    "import numpy as np"
   ]
  },
  {
   "cell_type": "markdown",
   "metadata": {},
   "source": [
    "Next, we will start the environment!  **_Before running the code cell below_**, change the `file_name` parameter to match the location of the Unity environment that you downloaded.\n",
    "\n",
    "- **Mac**: `\"path/to/Tennis.app\"`\n",
    "- **Windows** (x86): `\"path/to/Tennis_Windows_x86/Tennis.exe\"`\n",
    "- **Windows** (x86_64): `\"path/to/Tennis_Windows_x86_64/Tennis.exe\"`\n",
    "- **Linux** (x86): `\"path/to/Tennis_Linux/Tennis.x86\"`\n",
    "- **Linux** (x86_64): `\"path/to/Tennis_Linux/Tennis.x86_64\"`\n",
    "- **Linux** (x86, headless): `\"path/to/Tennis_Linux_NoVis/Tennis.x86\"`\n",
    "- **Linux** (x86_64, headless): `\"path/to/Tennis_Linux_NoVis/Tennis.x86_64\"`\n",
    "\n",
    "For instance, if you are using a Mac, then you downloaded `Tennis.app`.  If this file is in the same folder as the notebook, then the line below should appear as follows:\n",
    "```\n",
    "env = UnityEnvironment(file_name=\"Tennis.app\")\n",
    "```"
   ]
  },
  {
   "cell_type": "code",
   "execution_count": 2,
   "metadata": {},
   "outputs": [
    {
     "name": "stderr",
     "output_type": "stream",
     "text": [
      "INFO:unityagents:\n",
      "'Academy' started successfully!\n",
      "Unity Academy name: Academy\n",
      "        Number of Brains: 1\n",
      "        Number of External Brains : 1\n",
      "        Lesson number : 0\n",
      "        Reset Parameters :\n",
      "\t\t\n",
      "Unity brain name: TennisBrain\n",
      "        Number of Visual Observations (per agent): 0\n",
      "        Vector Observation space type: continuous\n",
      "        Vector Observation space size (per agent): 8\n",
      "        Number of stacked Vector Observation: 3\n",
      "        Vector Action space type: continuous\n",
      "        Vector Action space size (per agent): 2\n",
      "        Vector Action descriptions: , \n"
     ]
    }
   ],
   "source": [
    "env = UnityEnvironment(file_name=\"Tennis_Windows_x86_64\\Tennis.exe\")"
   ]
  },
  {
   "cell_type": "markdown",
   "metadata": {},
   "source": [
    "Environments contain **_brains_** which are responsible for deciding the actions of their associated agents. Here we check for the first brain available, and set it as the default brain we will be controlling from Python."
   ]
  },
  {
   "cell_type": "code",
   "execution_count": 3,
   "metadata": {},
   "outputs": [],
   "source": [
    "# get the default brain\n",
    "brain_name = env.brain_names[0]\n",
    "brain = env.brains[brain_name]"
   ]
  },
  {
   "cell_type": "markdown",
   "metadata": {},
   "source": [
    "### 2. Examine the State and Action Spaces\n",
    "\n",
    "In this environment, two agents control rackets to bounce a ball over a net. If an agent hits the ball over the net, it receives a reward of +0.1.  If an agent lets a ball hit the ground or hits the ball out of bounds, it receives a reward of -0.01.  Thus, the goal of each agent is to keep the ball in play.\n",
    "\n",
    "The observation space consists of 8 variables corresponding to the position and velocity of the ball and racket. Two continuous actions are available, corresponding to movement toward (or away from) the net, and jumping. \n",
    "\n",
    "Run the code cell below to print some information about the environment."
   ]
  },
  {
   "cell_type": "code",
   "execution_count": 4,
   "metadata": {},
   "outputs": [
    {
     "name": "stdout",
     "output_type": "stream",
     "text": [
      "Number of agents: 2\n",
      "Size of each action: 2\n",
      "There are 2 agents. Each observes a state with length: 24\n",
      "The state for the first agent looks like: [ 0.          0.          0.          0.          0.          0.\n",
      "  0.          0.          0.          0.          0.          0.\n",
      "  0.          0.          0.          0.         -6.65278625 -1.5\n",
      " -0.          0.          6.83172083  6.         -0.          0.        ]\n"
     ]
    }
   ],
   "source": [
    "# reset the environment\n",
    "env_info = env.reset(train_mode=True)[brain_name]\n",
    "\n",
    "# number of agents \n",
    "num_agents = len(env_info.agents)\n",
    "print('Number of agents:', num_agents)\n",
    "\n",
    "# size of each action\n",
    "action_size = brain.vector_action_space_size\n",
    "print('Size of each action:', action_size)\n",
    "\n",
    "# examine the state space \n",
    "states = env_info.vector_observations\n",
    "state_size = states.shape[1]\n",
    "print('There are {} agents. Each observes a state with length: {}'.format(states.shape[0], state_size))\n",
    "print('The state for the first agent looks like:', states[0])"
   ]
  },
  {
   "cell_type": "markdown",
   "metadata": {},
   "source": [
    "### 3. Take Random Actions in the Environment\n",
    "\n",
    "In the next code cell, you will learn how to use the Python API to control the agents and receive feedback from the environment.\n",
    "\n",
    "Once this cell is executed, you will watch the agents' performance, if they select actions at random with each time step.  A window should pop up that allows you to observe the agents.\n",
    "\n",
    "Of course, as part of the project, you'll have to change the code so that the agents are able to use their experiences to gradually choose better actions when interacting with the environment!"
   ]
  },
  {
   "cell_type": "code",
   "execution_count": 5,
   "metadata": {},
   "outputs": [],
   "source": [
    "# NOTE: Run this if you want to see random actions taken in the environment being used\n",
    "# for i in range(1, 6):                                      # play game for 5 episodes\n",
    "#     env_info = env.reset(train_mode=False)[brain_name]     # reset the environment    \n",
    "#     states = env_info.vector_observations                  # get the current state (for each agent)\n",
    "#     scores = np.zeros(num_agents)                          # initialize the score (for each agent)\n",
    "#     while True:\n",
    "#         actions = np.random.randn(num_agents, action_size) # select an action (for each agent)\n",
    "#         actions = np.clip(actions, -1, 1)                  # all actions between -1 and 1\n",
    "#         env_info = env.step(actions)[brain_name]           # send all actions to tne environment\n",
    "#         next_states = env_info.vector_observations         # get next state (for each agent)\n",
    "#         rewards = env_info.rewards                         # get reward (for each agent)\n",
    "#         dones = env_info.local_done                        # see if episode finished\n",
    "#         scores += env_info.rewards                         # update the score (for each agent)\n",
    "#         states = next_states                               # roll over states to next time step\n",
    "#         if np.any(dones):                                  # exit loop if episode finished\n",
    "#             break\n",
    "#     print('Score (max over agents) from episode {}: {}'.format(i, np.max(scores)))"
   ]
  },
  {
   "cell_type": "markdown",
   "metadata": {},
   "source": [
    "When finished, you can close the environment."
   ]
  },
  {
   "cell_type": "code",
   "execution_count": 6,
   "metadata": {},
   "outputs": [],
   "source": [
    "# env.close()"
   ]
  },
  {
   "cell_type": "markdown",
   "metadata": {},
   "source": [
    "### 4. It's Your Turn!\n",
    "\n",
    "Now it's your turn to train your own agent to solve the environment!  When training the environment, set `train_mode=True`, so that the line for resetting the environment looks like the following:\n",
    "```python\n",
    "env_info = env.reset(train_mode=True)[brain_name]\n",
    "```"
   ]
  },
  {
   "cell_type": "markdown",
   "metadata": {},
   "source": [
    "### 5. Multi Agent DDPG Implementation\n",
    "Train the intelligent agent using multiple agents."
   ]
  },
  {
   "cell_type": "code",
   "execution_count": 7,
   "metadata": {},
   "outputs": [
    {
     "name": "stdout",
     "output_type": "stream",
     "text": [
      "Episode 11\tAgent Average Score: 0.00"
     ]
    },
    {
     "name": "stderr",
     "output_type": "stream",
     "text": [
      "c:\\users\\fury\\miniconda3\\envs\\drlnd\\lib\\site-packages\\torch\\nn\\functional.py:995: UserWarning: nn.functional.tanh is deprecated. Use torch.tanh instead.\n",
      "  warnings.warn(\"nn.functional.tanh is deprecated. Use torch.tanh instead.\")\n"
     ]
    },
    {
     "name": "stdout",
     "output_type": "stream",
     "text": [
      "Episode 100\tAgent Average Score: 0.10\tEnvironment Average Score (100 episodes): 0.02\n",
      "Episode 200\tAgent Average Score: 0.00\tEnvironment Average Score (100 episodes): 0.02\n",
      "Episode 300\tAgent Average Score: 0.00\tEnvironment Average Score (100 episodes): 0.01\n",
      "Episode 400\tAgent Average Score: 0.00\tEnvironment Average Score (100 episodes): 0.02\n",
      "Episode 500\tAgent Average Score: 0.10\tEnvironment Average Score (100 episodes): 0.04\n",
      "Episode 600\tAgent Average Score: 0.10\tEnvironment Average Score (100 episodes): 0.12\n",
      "Episode 700\tAgent Average Score: 0.10\tEnvironment Average Score (100 episodes): 0.31\n",
      "Episode 800\tAgent Average Score: 0.09\tEnvironment Average Score (100 episodes): 0.19\n",
      "Episode 900\tAgent Average Score: 0.00\tEnvironment Average Score (100 episodes): 1.15\n",
      "Environment solved in 900 episodes!\n",
      "Average environment score (100 episodes): 1.1525000172108413\n",
      "Models saved!\n",
      "Episode 1000\tAgent Average Score: 2.60\tEnvironment Average Score (100 episodes): 1.29\n",
      "Improved model found! Models saved.\n"
     ]
    }
   ],
   "source": [
    "from unityagents import UnityEnvironment\n",
    "import random\n",
    "import torch\n",
    "import numpy as np\n",
    "from collections import deque\n",
    "import matplotlib.pyplot as plt\n",
    "%matplotlib inline\n",
    "\n",
    "from ddpg_agent import Agent\n",
    "\n",
    "n_episodes = 1000\n",
    "max_t = 1000\n",
    "window_size = 100\n",
    "\n",
    "def ddpg(n_episodes=n_episodes, max_t=max_t, window_size=window_size):\n",
    "    \"\"\"Interact with the environment and learn with an agent\n",
    "    \n",
    "    Note: This implementation works with an environment that has 20 agents running in parallel.\n",
    "          States and Actions are tensors of (agents, states/actions) or better thought of as\n",
    "          (batch_size=20, *values*) for inference purposes. While traning it consists of\n",
    "          the normal (training_batch_hyperparameter, *inputs*)\n",
    "\n",
    "    \"\"\"\n",
    "    solved = False # flag for solved environment\n",
    "    best_score = 0 # keep track of the best score\n",
    "    \n",
    "    # Agent that will be interacting with the environment\n",
    "    agent = Agent(state_size=state_size, action_size=action_size, random_seed=0)\n",
    "    \n",
    "    # Scores window for each episode, each score is an average of all agents for one episode\n",
    "    scores_window = deque(maxlen=window_size)\n",
    "    episode_scores = [] # record of all episode scores\n",
    "    \n",
    "    for i_episode in range(1, n_episodes+1):    \n",
    "        env_info = env.reset(train_mode=True)[brain_name] # reset the environment at the beginning of the episode (train mode)\n",
    "        states = env_info.vector_observations # get the states (for each agent)\n",
    "            \n",
    "        # reset the modeled noise (for each agent)\n",
    "        agent.reset()\n",
    "        \n",
    "        # Score for each agent\n",
    "        scores = np.zeros(num_agents)\n",
    "        \n",
    "        # Start the time steps in the episode\n",
    "        for t in range(max_t):\n",
    "            # Choose completely random actions in the begining episodes\n",
    "            if i_episode < 300:\n",
    "                actions = np.random.randn(num_agents, action_size) # select an action (for each agent)\n",
    "                actions = np.clip(actions, -1, 1)              \n",
    "            else:\n",
    "                # Get actions to take using a deep nn model (for each agent)\n",
    "                actions = agent.act(states)\n",
    "            \n",
    "            env_info = env.step(actions)[brain_name]         # take an action in the environment (for each agent)\n",
    "            next_states = env_info.vector_observations       # get next states (for each agent)\n",
    "            rewards = env_info.rewards                       # get rewards (for each agent)  \n",
    "            dones = env_info.local_done                      # get episode termination status (for each agent)\n",
    "            agent.step(states, actions, rewards, next_states, dones) # update the agent memory with the experiences and learn\n",
    "            agent.update_t(t)\n",
    "            states = next_states # move to next time step\n",
    "            scores += rewards # record rewards (over each agent)\n",
    "            \n",
    "            # Check if any agent has terminated to end the episode\n",
    "            if any(dones):\n",
    "                break\n",
    "        \n",
    "        # Get the max agent score\n",
    "        score = np.max(scores)\n",
    "        \n",
    "        # Add to the scores queue window, and episode scores list\n",
    "        scores_window.append(score)\n",
    "        episode_scores.append(score)\n",
    "        \n",
    "        # Compute the environment average score\n",
    "        environment_average = np.mean(scores_window)\n",
    "        \n",
    "        # Print some score stats\n",
    "        print('\\rEpisode {}\\tAgent Average Score: {:.2f}'.format(i_episode, score), end=\"\")\n",
    "        \n",
    "        if i_episode % window_size == 0:\n",
    "            print('\\tEnvironment Average Score (100 episodes): {:.2f}'.format(environment_average))\n",
    "        \n",
    "            # See if we have passed the environment solved standard\n",
    "            if environment_average >= 0.5 and len(scores_window) == 100 and not solved:\n",
    "                print(\"Environment solved in {} episodes!\".format(i_episode))\n",
    "                print(\"Average environment score (100 episodes): {}\".format(environment_average))\n",
    "\n",
    "                # Save the model weights\n",
    "                torch.save(agent.actor_local.state_dict(), 'checkpoint_actor.pth')\n",
    "                torch.save(agent.critic_local.state_dict(), 'checkpoint_critic.pth')\n",
    "                print('Models saved!')\n",
    "                \n",
    "                # Set some flags for further training\n",
    "                best_score = environment_average\n",
    "                solved = True\n",
    "                continue\n",
    "            \n",
    "            # Find the BEST model if the environment is solved\n",
    "            if solved and environment_average > best_score:\n",
    "                # Save the model weights\n",
    "                torch.save(agent.actor_local.state_dict(), 'checkpoint_actor.pth')\n",
    "                torch.save(agent.critic_local.state_dict(), 'checkpoint_critic.pth')\n",
    "                best_score = environment_average\n",
    "                print('Improved model found! Models saved.')\n",
    "\n",
    "    return episode_scores\n",
    "\n",
    "\n",
    "scores = ddpg()\n",
    "\n",
    "# Close out the environment\n",
    "env.close()"
   ]
  },
  {
   "cell_type": "code",
   "execution_count": 8,
   "metadata": {},
   "outputs": [
    {
     "data": {
      "image/png": "[encoded data removed]",
      "text/plain": [
       "<Figure size 432x288 with 1 Axes>"
      ]
     },
     "metadata": {
      "needs_background": "light"
     },
     "output_type": "display_data"
    }
   ],
   "source": [
    "# Plot the training results\n",
    "fig = plt.figure()\n",
    "ax = fig.add_subplot(111)\n",
    "plt.plot(np.arange(1, len(scores)+1), scores)\n",
    "plt.ylabel('Score')\n",
    "plt.xlabel('Episode #')\n",
    "plt.show()"
   ]
  },
  {
   "cell_type": "code",
   "execution_count": 1,
   "metadata": {},
   "outputs": [
    {
     "name": "stderr",
     "output_type": "stream",
     "text": [
      "INFO:unityagents:\n",
      "'Academy' started successfully!\n",
      "Unity Academy name: Academy\n",
      "        Number of Brains: 1\n",
      "        Number of External Brains : 1\n",
      "        Lesson number : 0\n",
      "        Reset Parameters :\n",
      "\t\t\n",
      "Unity brain name: TennisBrain\n",
      "        Number of Visual Observations (per agent): 0\n",
      "        Vector Observation space type: continuous\n",
      "        Vector Observation space size (per agent): 8\n",
      "        Number of stacked Vector Observation: 3\n",
      "        Vector Action space type: continuous\n",
      "        Vector Action space size (per agent): 2\n",
      "        Vector Action descriptions: , \n",
      "c:\\users\\fury\\miniconda3\\envs\\drlnd\\lib\\site-packages\\torch\\nn\\functional.py:995: UserWarning: nn.functional.tanh is deprecated. Use torch.tanh instead.\n",
      "  warnings.warn(\"nn.functional.tanh is deprecated. Use torch.tanh instead.\")\n"
     ]
    },
    {
     "name": "stdout",
     "output_type": "stream",
     "text": [
      "Best Agent Score: 2.600000038743019\n"
     ]
    }
   ],
   "source": [
    "# NOTE: Restart the python kernel if there is a problem running this after running the above code\n",
    "# Inference so we can see the model in action\n",
    "import torch\n",
    "from ddpg_agent import Agent\n",
    "from unityagents import UnityEnvironment\n",
    "import numpy as np\n",
    "import random\n",
    "\n",
    "env = UnityEnvironment(file_name='Tennis_Windows_x86_64\\Tennis.exe')\n",
    "brain_name = env.brain_names[0]\n",
    "brain = env.brains[brain_name]\n",
    "env_info = env.reset(train_mode=False)[brain_name]     # reset the environment (inference mode)\n",
    "\n",
    "num_agents = len(env_info.agents)\n",
    "action_size = brain.vector_action_space_size\n",
    "states = env_info.vector_observations\n",
    "state_size = states.shape[1]\n",
    "\n",
    "# Load the trained weights\n",
    "agent = Agent(state_size=state_size, action_size=action_size, random_seed=random.random())\n",
    "agent.actor_local.load_state_dict(torch.load('checkpoint_actor.pth'))\n",
    "\n",
    "\n",
    "states = env_info.vector_observations                  # get state state (for each agent)\n",
    "scores = np.zeros(num_agents)                          # record scores (for each agent)\n",
    "\n",
    "while True:\n",
    "    actions = agent.act(states, add_noise=False)       # get actions to take for each agent (for each agent)\n",
    "    env_info = env.step(actions)[brain_name]           # take an action in the environment (for each agent)\n",
    "    next_states = env_info.vector_observations         # get next state (for each agent)\n",
    "    rewards = env_info.rewards                         # get reward (for each agent)\n",
    "    dones = env_info.local_done                        # get episode termination status (for each agent)\n",
    "    scores += rewards                         # record the rewards for each action (for each agent)\n",
    "    states = next_states                               # move to the next time step\n",
    "    \n",
    "    if np.any(dones):                                  # check if any agent has terminated to end the episode\n",
    "        break\n",
    "\n",
    "print('Best Agent Score: {}'.format(np.max(scores)))\n",
    "\n",
    "# Close out the environment\n",
    "env.close()"
   ]
  }
 ],
 "metadata": {
  "kernelspec": {
   "display_name": "Python 3",
   "language": "python",
   "name": "python3"
  },
  "language_info": {
   "codemirror_mode": {
    "name": "ipython",
    "version": 3
   },
   "file_extension": ".py",
   "mimetype": "text/x-python",
   "name": "python",
   "nbconvert_exporter": "python",
   "pygments_lexer": "ipython3",
   "version": "3.6.6"
  }
 },
 "nbformat": 4,
 "nbformat_minor": 2
}
